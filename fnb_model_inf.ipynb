{
 "cells": [
  {
   "cell_type": "code",
   "execution_count": 1,
   "metadata": {},
   "outputs": [],
   "source": [
    "#import library\n",
    "\n",
    "import pickle\n",
    "import json\n",
    "import pandas as pd\n",
    "import numpy as np"
   ]
  },
  {
   "cell_type": "code",
   "execution_count": 3,
   "metadata": {},
   "outputs": [],
   "source": [
    "# Load nama kolom numerikal\n",
    "with open('list_num_cols.txt', 'r') as file_1:\n",
    "  list_num_cols = json.load(file_1)\n",
    "# Load nama kolom kategorikal yang belum di encode\n",
    "with open('list_cat_cols.txt', 'r') as file_2:\n",
    "  list_cat_cols = json.load(file_2)\n",
    "# Load model\n",
    "with open('best_fnb_svr_model.pkl', 'rb') as model:\n",
    "  svr_fnb_model = pickle.load(model)"
   ]
  },
  {
   "cell_type": "code",
   "execution_count": 4,
   "metadata": {},
   "outputs": [
    {
     "data": {
      "text/html": [
       "<div>\n",
       "<style scoped>\n",
       "    .dataframe tbody tr th:only-of-type {\n",
       "        vertical-align: middle;\n",
       "    }\n",
       "\n",
       "    .dataframe tbody tr th {\n",
       "        vertical-align: top;\n",
       "    }\n",
       "\n",
       "    .dataframe thead th {\n",
       "        text-align: right;\n",
       "    }\n",
       "</style>\n",
       "<table border=\"1\" class=\"dataframe\">\n",
       "  <thead>\n",
       "    <tr style=\"text-align: right;\">\n",
       "      <th></th>\n",
       "      <th>emiten_code</th>\n",
       "      <th>year</th>\n",
       "      <th>date</th>\n",
       "      <th>eps</th>\n",
       "      <th>per</th>\n",
       "      <th>pbv</th>\n",
       "      <th>bvps</th>\n",
       "      <th>ebitda</th>\n",
       "      <th>roa</th>\n",
       "      <th>roe</th>\n",
       "      <th>fcf</th>\n",
       "      <th>fcf_ps</th>\n",
       "      <th>gdp_forecast</th>\n",
       "      <th>political_stability</th>\n",
       "      <th>inflation_forecast</th>\n",
       "    </tr>\n",
       "  </thead>\n",
       "  <tbody>\n",
       "    <tr>\n",
       "      <th>0</th>\n",
       "      <td>HOKI</td>\n",
       "      <td>2024</td>\n",
       "      <td>Q3</td>\n",
       "      <td>0.36</td>\n",
       "      <td>330.56</td>\n",
       "      <td>1.75</td>\n",
       "      <td>68.07</td>\n",
       "      <td>16700000000</td>\n",
       "      <td>0.3</td>\n",
       "      <td>0.53</td>\n",
       "      <td>-205000000000</td>\n",
       "      <td>-21.19</td>\n",
       "      <td>5</td>\n",
       "      <td>17.1</td>\n",
       "      <td>2.5</td>\n",
       "    </tr>\n",
       "  </tbody>\n",
       "</table>\n",
       "</div>"
      ],
      "text/plain": [
       "  emiten_code  year date   eps     per   pbv   bvps       ebitda  roa   roe  \\\n",
       "0        HOKI  2024   Q3  0.36  330.56  1.75  68.07  16700000000  0.3  0.53   \n",
       "\n",
       "            fcf  fcf_ps  gdp_forecast  political_stability  inflation_forecast  \n",
       "0 -205000000000  -21.19             5                 17.1                 2.5  "
      ]
     },
     "execution_count": 4,
     "metadata": {},
     "output_type": "execute_result"
    }
   ],
   "source": [
    "# Mmebuat dataframe baru\n",
    "data_inf = {\n",
    "    'emiten_code' :'HOKI',\n",
    "    'year' : 2024, \n",
    "    'date' : 'Q3', \n",
    "    'eps' : 0.36, \n",
    "    'per' : 330.56, \n",
    "    'pbv' : 1.75, \n",
    "    'bvps' : 68.07, \n",
    "    'ebitda' : 16700000000,\n",
    "    'roa' : 0.3, \n",
    "    'roe' : 0.53, \n",
    "    'fcf' : -205000000000, \n",
    "    'fcf_ps' : -21.19, \n",
    "    'gdp_forecast' : 5, \n",
    "    'political_stability' : 17.1,\n",
    "    'inflation_forecast' : 2.5, \n",
    "}\n",
    "\n",
    "data_inf = pd.DataFrame([data_inf])\n",
    "data_inf"
   ]
  },
  {
   "cell_type": "code",
   "execution_count": 5,
   "metadata": {},
   "outputs": [
    {
     "data": {
      "text/html": [
       "<div>\n",
       "<style scoped>\n",
       "    .dataframe tbody tr th:only-of-type {\n",
       "        vertical-align: middle;\n",
       "    }\n",
       "\n",
       "    .dataframe tbody tr th {\n",
       "        vertical-align: top;\n",
       "    }\n",
       "\n",
       "    .dataframe thead th {\n",
       "        text-align: right;\n",
       "    }\n",
       "</style>\n",
       "<table border=\"1\" class=\"dataframe\">\n",
       "  <thead>\n",
       "    <tr style=\"text-align: right;\">\n",
       "      <th></th>\n",
       "      <th>eps</th>\n",
       "      <th>per</th>\n",
       "      <th>pbv</th>\n",
       "      <th>bvps</th>\n",
       "      <th>ebitda</th>\n",
       "      <th>roa</th>\n",
       "      <th>roe</th>\n",
       "      <th>fcf</th>\n",
       "      <th>fcf_ps</th>\n",
       "      <th>gdp_forecast</th>\n",
       "      <th>political_stability</th>\n",
       "      <th>inflation_forecast</th>\n",
       "      <th>date</th>\n",
       "    </tr>\n",
       "  </thead>\n",
       "  <tbody>\n",
       "    <tr>\n",
       "      <th>0</th>\n",
       "      <td>0.36</td>\n",
       "      <td>330.56</td>\n",
       "      <td>1.75</td>\n",
       "      <td>68.07</td>\n",
       "      <td>16700000000</td>\n",
       "      <td>0.3</td>\n",
       "      <td>0.53</td>\n",
       "      <td>-205000000000</td>\n",
       "      <td>-21.19</td>\n",
       "      <td>5</td>\n",
       "      <td>17.1</td>\n",
       "      <td>2.5</td>\n",
       "      <td>Q3</td>\n",
       "    </tr>\n",
       "  </tbody>\n",
       "</table>\n",
       "</div>"
      ],
      "text/plain": [
       "    eps     per   pbv   bvps       ebitda  roa   roe           fcf  fcf_ps  \\\n",
       "0  0.36  330.56  1.75  68.07  16700000000  0.3  0.53 -205000000000  -21.19   \n",
       "\n",
       "   gdp_forecast  political_stability  inflation_forecast date  \n",
       "0             5                 17.1                 2.5   Q3  "
      ]
     },
     "execution_count": 5,
     "metadata": {},
     "output_type": "execute_result"
    }
   ],
   "source": [
    "#split between numerical and categorical columns\n",
    "\n",
    "data_inf_num = data_inf[list_num_cols]\n",
    "data_inf_cat = data_inf[list_cat_cols]\n",
    "data_inf_final = pd.concat([data_inf_num, data_inf_cat], axis=1)\n",
    "data_inf_final"
   ]
  },
  {
   "cell_type": "code",
   "execution_count": 6,
   "metadata": {},
   "outputs": [
    {
     "data": {
      "text/plain": [
       "array([0.32788711])"
      ]
     },
     "execution_count": 6,
     "metadata": {},
     "output_type": "execute_result"
    }
   ],
   "source": [
    "#predict using linear reg model\n",
    "\n",
    "y_pred_inf = svr_fnb_model.predict(data_inf_final)\n",
    "y_pred_inf"
   ]
  }
 ],
 "metadata": {
  "kernelspec": {
   "display_name": "data",
   "language": "python",
   "name": "python3"
  },
  "language_info": {
   "codemirror_mode": {
    "name": "ipython",
    "version": 3
   },
   "file_extension": ".py",
   "mimetype": "text/x-python",
   "name": "python",
   "nbconvert_exporter": "python",
   "pygments_lexer": "ipython3",
   "version": "3.9.20"
  }
 },
 "nbformat": 4,
 "nbformat_minor": 2
}
